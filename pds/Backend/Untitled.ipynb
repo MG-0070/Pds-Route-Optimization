{
 "cells": [
  {
   "cell_type": "code",
   "execution_count": 17,
   "id": "6344c97a",
   "metadata": {},
   "outputs": [],
   "source": [
    "import pandas as pd\n",
    "df= pd.ExcelFile(\"Data1.xlsx\")\n",
    "df5 = pd.read_excel(df,sheet_name=\"Sheet1\")\n"
   ]
  },
  {
   "cell_type": "code",
   "execution_count": 18,
   "id": "61bdc34f",
   "metadata": {},
   "outputs": [],
   "source": [
    "\n",
    "df5['From_ID'] = pd.to_numeric(df5['From_ID'], errors='coerce').fillna(df5['From_ID'])\n"
   ]
  },
  {
   "cell_type": "code",
   "execution_count": 19,
   "id": "d3ea4117",
   "metadata": {},
   "outputs": [
    {
     "name": "stdout",
     "output_type": "stream",
     "text": [
      "  From_ID\n",
      "0     1.0\n",
      "1     3.0\n",
      "2  SHALLU\n",
      "3   ANMOL\n"
     ]
    }
   ],
   "source": [
    "print(df5)"
   ]
  },
  {
   "cell_type": "code",
   "execution_count": null,
   "id": "9b6c87d2",
   "metadata": {},
   "outputs": [],
   "source": []
  }
 ],
 "metadata": {
  "kernelspec": {
   "display_name": "Python 3 (ipykernel)",
   "language": "python",
   "name": "python3"
  },
  "language_info": {
   "codemirror_mode": {
    "name": "ipython",
    "version": 3
   },
   "file_extension": ".py",
   "mimetype": "text/x-python",
   "name": "python",
   "nbconvert_exporter": "python",
   "pygments_lexer": "ipython3",
   "version": "3.10.4"
  }
 },
 "nbformat": 4,
 "nbformat_minor": 5
}
